{
  "nbformat": 4,
  "nbformat_minor": 0,
  "metadata": {
    "colab": {
      "name": "A6_run.ipynb",
      "provenance": [],
      "collapsed_sections": [],
      "toc_visible": true
    },
    "kernelspec": {
      "name": "python3",
      "display_name": "Python 3"
    },
    "accelerator": "GPU"
  },
  "cells": [
    {
      "cell_type": "code",
      "metadata": {
        "id": "PBoqVVGwNm1k",
        "colab": {
          "base_uri": "https://localhost:8080/"
        },
        "outputId": "0350a7d9-eb61-4fab-8584-dd5cb56d13c1"
      },
      "source": [
        "!python3 -m pip install paramparse\n",
        "%load_ext tensorboard"
      ],
      "execution_count": 6,
      "outputs": [
        {
          "output_type": "stream",
          "text": [
            "Collecting paramparse\n",
            "  Downloading https://files.pythonhosted.org/packages/49/06/d99175d40e92844ae27d07aa375540cd4902f3bca1e8c6aebb4a66cbb360/paramparse-1.4.8-py3-none-any.whl\n",
            "Installing collected packages: paramparse\n",
            "Successfully installed paramparse-1.4.8\n"
          ],
          "name": "stdout"
        }
      ]
    },
    {
      "cell_type": "markdown",
      "metadata": {
        "id": "YMjIe7KqKBXv"
      },
      "source": [
        "Upload your train_data_rgb.npz, A6_main.py and A6_submission.py file to Google Drive, change their sharing settings and find the corresponding IDs as described here:\n",
        "\n",
        "https://medium.com/@acpanjan/download-google-drive-files-using-wget-3c2c025a8b99"
      ]
    },
    {
      "cell_type": "code",
      "metadata": {
        "id": "dw3vT1EA4YBv"
      },
      "source": [
        "train_data_id=\"\"\n",
        "a6_main_id=\"\"\n",
        "a6_submission_id=\"\""
      ],
      "execution_count": 1,
      "outputs": []
    },
    {
      "cell_type": "code",
      "metadata": {
        "id": "y0PtQLZhkIMc",
        "colab": {
          "base_uri": "https://localhost:8080/"
        },
        "outputId": "c77d4964-2e4f-42ef-ad05-688cdb940edf"
      },
      "source": [
        "train_data_url=\"https://docs.google.com/uc?export=download\\&id=\"+train_data_id\n",
        "!rm -f train_data_rgb.npz\n",
        "!wget -nc -q --no-check-certificate {train_data_url} -O train_data_rgb.npz || rm -f train_data_rgb.npz\n",
        "!ls"
      ],
      "execution_count": 3,
      "outputs": [
        {
          "output_type": "stream",
          "text": [
            "A6_submission.py  sample_data  train_data_rgb.npz\n"
          ],
          "name": "stdout"
        }
      ]
    },
    {
      "cell_type": "code",
      "metadata": {
        "id": "nF0Vacp5OB2C",
        "colab": {
          "base_uri": "https://localhost:8080/"
        },
        "outputId": "d00d16e7-0eac-451c-a92a-938b4d0b444d"
      },
      "source": [
        "a6_main_url=\"https://docs.google.com/uc?export=download\\&id=\"+a6_main_id\n",
        "!rm -f A6_main.py\n",
        "!wget -nc -q --no-check-certificate {a6_main_url} -O A6_main.py || rm -f A6_main.py\n",
        "!ls"
      ],
      "execution_count": 4,
      "outputs": [
        {
          "output_type": "stream",
          "text": [
            "A6_main.py  A6_submission.py  sample_data  train_data_rgb.npz\n"
          ],
          "name": "stdout"
        }
      ]
    },
    {
      "cell_type": "code",
      "metadata": {
        "id": "dhA7vILcKB6A",
        "colab": {
          "base_uri": "https://localhost:8080/"
        },
        "outputId": "d2825ca3-445f-4b35-cc45-832d8ab7e449"
      },
      "source": [
        "a6_submission_url=\"https://docs.google.com/uc?export=download\\&id=\"+a6_submission_id\n",
        "!rm -f A6_submission.py\n",
        "!wget -nc -q --no-check-certificate {a6_submission_url} -O A6_submission.py || rm -f A6_submission.py\n",
        "!ls"
      ],
      "execution_count": 2,
      "outputs": [
        {
          "output_type": "stream",
          "text": [
            "A6_submission.py  sample_data\n"
          ],
          "name": "stdout"
        }
      ]
    },
    {
      "cell_type": "markdown",
      "metadata": {
        "id": "egi3yTBNOSFG"
      },
      "source": [
        "# Tensorboard to monitor training progress\n",
        "\n",
        "It needs to be started before the program to run in the background since only one cell can be executed at a time.\n",
        "\n",
        "It can be a bit temperamental so you may have to  click on the refresh buttom (top right) a few times and / or wait a while after the main program has started to get it working"
      ]
    },
    {
      "cell_type": "code",
      "metadata": {
        "id": "bMPYDomrKKRq",
        "colab": {
          "base_uri": "https://localhost:8080/",
          "height": 17
        },
        "outputId": "3b132d31-e3b1-4dc5-90ef-abc00c6dd470"
      },
      "source": [
        "%tensorboard --logdir /content/checkpoints/tb"
      ],
      "execution_count": 7,
      "outputs": [
        {
          "output_type": "display_data",
          "data": {
            "application/javascript": [
              "\n",
              "        (async () => {\n",
              "            const url = new URL(await google.colab.kernel.proxyPort(6006, {'cache': true}));\n",
              "            url.searchParams.set('tensorboardColab', 'true');\n",
              "            const iframe = document.createElement('iframe');\n",
              "            iframe.src = url;\n",
              "            iframe.setAttribute('width', '100%');\n",
              "            iframe.setAttribute('height', '800');\n",
              "            iframe.setAttribute('frameborder', 0);\n",
              "            document.body.appendChild(iframe);\n",
              "        })();\n",
              "    "
            ],
            "text/plain": [
              "<IPython.core.display.Javascript object>"
            ]
          },
          "metadata": {
            "tags": []
          }
        }
      ]
    },
    {
      "cell_type": "markdown",
      "metadata": {
        "id": "uSDUmYdp8s8X"
      },
      "source": [
        "# Run the main file\n",
        "You can also use command line arguments to modify the parameters without changing the python files.\n",
        "\n",
        "For example,\n",
        "\n",
        "`!python3 A6_main.py load_weights=1 lr=1e4 eps=2e-8`\n",
        "\n",
        "will set `load_weights`, `lr` and `eps` in `Params` to the respective values."
      ]
    },
    {
      "cell_type": "code",
      "metadata": {
        "id": "yjPB6EidE56l",
        "colab": {
          "base_uri": "https://localhost:8080/"
        },
        "outputId": "8241bdca-4ca6-4131-a25f-875827c165e1"
      },
      "source": [
        "!python3 A6_main.py"
      ],
      "execution_count": 8,
      "outputs": [
        {
          "output_type": "stream",
          "text": [
            "Training on GPU: Tesla K80\n",
            "Training samples: 9600\n",
            "Validation samples: 2400\n",
            "\n",
            "Traceback (most recent call last):\n",
            "  File \"A6_main.py\", line 428, in <module>\n",
            "    main()\n",
            "  File \"A6_main.py\", line 227, in main\n",
            "    eps=params.eps,\n",
            "  File \"/usr/local/lib/python3.7/dist-packages/torch/optim/adam.py\", line 48, in __init__\n",
            "    super(Adam, self).__init__(params, defaults)\n",
            "  File \"/usr/local/lib/python3.7/dist-packages/torch/optim/optimizer.py\", line 50, in __init__\n",
            "    raise ValueError(\"optimizer got an empty parameter list\")\n",
            "ValueError: optimizer got an empty parameter list\n"
          ],
          "name": "stdout"
        }
      ]
    }
  ]
}